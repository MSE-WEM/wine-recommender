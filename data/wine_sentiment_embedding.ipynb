{
 "cells": [
  {
   "attachments": {},
   "cell_type": "markdown",
   "metadata": {},
   "source": [
    "# Sentiment analysis and word embedding\n",
    "\n",
    "This notebooks contains code to perform sentiment analysis on wine reviews and create word embeddings for wine pairing in order to link wine with food recipes."
   ]
  },
  {
   "cell_type": "code",
   "execution_count": 1,
   "metadata": {},
   "outputs": [
    {
     "name": "stdout",
     "output_type": "stream",
     "text": [
      "{'name': 'Cayas Réserve', 'winery': 'Jean-René Germanier', 'vintage': '2017', 'img_url': 'https://images.vivino.com/thumbs/h5nBbi34QfWltNAirehONw_pb_x600.png', 'country': 'Suisse', 'region': 'Valais', 'type': 'Vin rouge', 'grapes': [], 'price': 57.5, 'pairings': ['Bœuf', 'Agneau', 'Gibier (cerf, chevreuil)', 'Volaille'], 'reviews': [\"Robe rouge sombre, nez de petits fruits avec des éfluves poivrées et un soupçon de cuir, bouche puissante où l'on retrouve le nez avec des tanins présents mais fins, finale bien marquée. Belle boutelle.\", 'N’étant absolument pas fan de syrah, j’essaye. Alors oui. Équilibré, aromatique mais pas écœurant. Magnifique travail. Pas de miracle: pour faire de bons produits, il faut un excellent domaine et y mettre le prix. Mérité. Santé. Bravo', 'Nez très fruité. Belle robe grenat foncé. Agréable en bouche du début à la fin avec une belle linéarité ! À refaire !'], 'average_rating': '4.4', 'url': 'https://www.vivino.com/CH/fr/jean-rene-germanier-cayas-reserve/w/1897902?year=2017&price_id=32501009'}\n"
     ]
    }
   ],
   "source": [
    "import json\n",
    "import numpy as np\n",
    "from deep_translator import GoogleTranslator\n",
    "\n",
    "with open('wine_scrapped_data.json') as f:\n",
    "    wine_data_raw = json.load(f)\n",
    "\n",
    "translator = GoogleTranslator(source='auto', target='en')\n",
    "\n",
    "test_data = wine_data_raw[3]\n",
    "print(test_data)"
   ]
  },
  {
   "attachments": {},
   "cell_type": "markdown",
   "metadata": {},
   "source": [
    "## 1. Sentiment analysis"
   ]
  },
  {
   "cell_type": "code",
   "execution_count": 2,
   "metadata": {},
   "outputs": [],
   "source": [
    "from pysentimiento import create_analyzer\n",
    "\n",
    "reviews = test_data['reviews']\n",
    "sentiment_analyzer = create_analyzer(task=\"sentiment\", lang=\"en\")\n",
    "emotion_analyzer = create_analyzer(task=\"emotion\", lang=\"en\")"
   ]
  },
  {
   "cell_type": "code",
   "execution_count": 3,
   "metadata": {},
   "outputs": [],
   "source": [
    "def sentiment_analysis(reviews):\n",
    "    sentiments = []\n",
    "    emotions = []\n",
    "    for review in reviews:\n",
    "        review = translator.translate(review)\n",
    "        sentiment = sentiment_analyzer.predict(review).probas\n",
    "        emotion = emotion_analyzer.predict(review).probas\n",
    "        sentiments.append(sentiment)\n",
    "        emotions.append(emotion)\n",
    "    return {key: np.mean([sentiment[key] for sentiment in sentiments]) for key in sentiments[0]}, {key: np.mean([emotion[key] for emotion in emotions]) for key in emotions[0]}"
   ]
  },
  {
   "attachments": {},
   "cell_type": "markdown",
   "metadata": {},
   "source": [
    "## 2. Word embedding"
   ]
  },
  {
   "cell_type": "code",
   "execution_count": null,
   "metadata": {},
   "outputs": [],
   "source": [
    "import nltk\n",
    "from nltk.corpus import stopwords\n",
    "from nltk.tokenize import word_tokenize\n",
    "import string\n",
    "\n",
    "nltk.download('all')"
   ]
  },
  {
   "cell_type": "code",
   "execution_count": 5,
   "metadata": {},
   "outputs": [],
   "source": [
    "custom_stopwords = set(stopwords.words('english') + [\"etc\", \"hard\", \"soft\", \"lean\", \"seasoned\", \"ripened\"])"
   ]
  },
  {
   "cell_type": "code",
   "execution_count": 7,
   "metadata": {},
   "outputs": [],
   "source": [
    "from gensim.models import KeyedVectors\n",
    "\n",
    "model = KeyedVectors.load_word2vec_format('GoogleNews-vectors-negative300.bin.gz', binary=True)"
   ]
  },
  {
   "cell_type": "code",
   "execution_count": 8,
   "metadata": {},
   "outputs": [],
   "source": [
    "def generate_embeddings(pairings):\n",
    "    tokens = []\n",
    "    for pairing in pairings:\n",
    "        pairing = translator.translate(pairing)\n",
    "        pairing = pairing.lower()\n",
    "        pairing_tokens = word_tokenize(pairing)\n",
    "        pairing_tokens = [token for token in pairing_tokens if token not in string.punctuation]\n",
    "        pairing_tokens = [token for token in pairing_tokens if token not in custom_stopwords]\n",
    "        tokens.extend([token for token in pairing_tokens])\n",
    "    # group every word in a single list and remove duplicates\n",
    "    tokens = list(set(tokens))\n",
    "    # replace \"game\" by \"wildflow\"\n",
    "    tokens = [token.replace('game', 'wildfowl') for token in tokens]\n",
    "    return np.mean([model[token] for token in tokens], axis=0)"
   ]
  },
  {
   "attachments": {},
   "cell_type": "markdown",
   "metadata": {},
   "source": [
    "## 3. Process all wine data"
   ]
  },
  {
   "cell_type": "code",
   "execution_count": null,
   "metadata": {},
   "outputs": [],
   "source": [
    "errors_count = 0\n",
    "wine_data = wine_data_raw.copy()\n",
    "for wine in wine_data:\n",
    "    try:\n",
    "        wine['reviews_sentiment'], wine['reviews_emotion'] = sentiment_analysis(wine['reviews'])\n",
    "        wine['pairings_embedding'] = generate_embeddings(wine['pairings'])\n",
    "    except:\n",
    "        print(wine['url'])\n",
    "        # delete the wine\n",
    "        wine_data.remove(wine)\n",
    "        errors_count += 1\n",
    "        continue\n",
    "\n",
    "print(\"There were {} errors out of {} wines\".format(errors_count, len(wine_data_raw)))"
   ]
  },
  {
   "cell_type": "code",
   "execution_count": 27,
   "metadata": {},
   "outputs": [],
   "source": [
    "wine_data_copy = wine_data.copy()"
   ]
  },
  {
   "cell_type": "code",
   "execution_count": 28,
   "metadata": {},
   "outputs": [
    {
     "name": "stdout",
     "output_type": "stream",
     "text": [
      "No pairing embedding for https://www.vivino.com/CH/fr/cave-du-rhodan-diversitas-hommage-pinot-noir/w/6929693?year=2019&price_id=27651844\n",
      "No pairing embedding for https://www.vivino.com/CH/fr/gregor-kuonen-caveau-de-salquenen-merlot/w/2100391?year=2019&price_id=30828418\n",
      "No pairing embedding for https://www.vivino.com/CH/fr/angelo-delea-carato-merlot/w/1211198?year=2020&price_id=31313439\n",
      "No pairing embedding for https://www.vivino.com/CH/fr/vincent-girardin-meursault-1er-cru-les-perrieres/w/1415377?year=2020&price_id=30797162\n",
      "No pairing embedding for https://www.vivino.com/CH/fr/domaine-de-l-aurage-castillon-cotes-de-bordeaux/w/1240817?year=2020&price_id=32194721\n",
      "No pairing embedding for https://www.vivino.com/CH/fr/yonfigeac-saint-emilion-grand-cru-grand-cru-classe/w/89399?year=2018&price_id=31266318\n",
      "No pairing embedding for https://www.vivino.com/CH/fr/allegria-la-belle-histoire/w/6270401?year=2020&price_id=30549885\n",
      "No pairing embedding for https://www.vivino.com/CH/fr/chateau-le-puy-barthelemy/w/2410498?year=2019&price_id=27035802\n",
      "No pairing embedding for https://www.vivino.com/CH/fr/enzo-boglietti-case-nere-barolo/w/1166578?year=2005&price_id=25607586\n",
      "No pairing embedding for https://www.vivino.com/CH/fr/gian-piero-marrone-barolo-bussia-gb7f2/w/4130971?year=2016&price_id=30077949\n",
      "No pairing embedding for https://www.vivino.com/CH/fr/es-aster-finca-el-otero/w/1253646?year=2018&price_id=31206710\n",
      "No pairing embedding for https://www.vivino.com/CH/fr/tobella-gratallops-seleccio-especial/w/1243433?year=2013&price_id=20171649\n",
      "There are 1845 wines left out of 1870\n"
     ]
    }
   ],
   "source": [
    "# convert the numpy arrays to lists\n",
    "for wine in wine_data_copy:\n",
    "    # check if embedding pairing exists\n",
    "    if 'pairings_embedding' in wine:\n",
    "        # check if it is a numpy array\n",
    "        if isinstance(wine['pairings_embedding'], np.ndarray):\n",
    "            wine['pairings_embedding'] = wine['pairings_embedding'].tolist()\n",
    "    else:\n",
    "        print(\"No pairing embedding for {}\".format(wine['url']))\n",
    "        # remove the wine\n",
    "        wine_data_copy.remove(wine)\n",
    "\n",
    "print(\"There are {} wines left out of {}\".format(len(wine_data_copy), len(wine_data_raw)))\n",
    "\n",
    "with open('wine_sentiment_embedding.json', 'w') as f:\n",
    "    json.dump(wine_data_copy, f, indent=4)"
   ]
  }
 ],
 "metadata": {
  "kernelspec": {
   "display_name": "wem",
   "language": "python",
   "name": "python3"
  },
  "language_info": {
   "codemirror_mode": {
    "name": "ipython",
    "version": 3
   },
   "file_extension": ".py",
   "mimetype": "text/x-python",
   "name": "python",
   "nbconvert_exporter": "python",
   "pygments_lexer": "ipython3",
   "version": "3.10.11"
  },
  "orig_nbformat": 4
 },
 "nbformat": 4,
 "nbformat_minor": 2
}
